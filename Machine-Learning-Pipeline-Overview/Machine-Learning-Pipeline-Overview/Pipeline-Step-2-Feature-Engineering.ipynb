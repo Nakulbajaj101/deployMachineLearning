{
 "cells": [
  {
   "cell_type": "code",
   "execution_count": 1,
   "metadata": {},
   "outputs": [],
   "source": [
    "import pandas as pd\n",
    "import numpy as np\n",
    "\n",
    "#divide data into train and test set\n",
    "from sklearn.model_selection import train_test_split\n",
    "\n",
    "#scaling data\n",
    "from sklearn.preprocessing import MinMaxScaler\n",
    "\n",
    "#To show all columns\n",
    "pd.pandas.set_option(\"display.max_columns\",None)"
   ]
  },
  {
   "cell_type": "code",
   "execution_count": 2,
   "metadata": {},
   "outputs": [],
   "source": [
    "#Load the dataset\n",
    "data = pd.read_csv(\"/Users/bajajn2/Nakul/Projects/deployMachineLearningModels/houseprice.csv\")"
   ]
  },
  {
   "cell_type": "code",
   "execution_count": 3,
   "metadata": {},
   "outputs": [],
   "source": [
    "seed = 0\n",
    "X_train, X_test, Y_train, Y_test = train_test_split(data, data[\"SalePrice\"],test_size=0.1,random_state=seed)"
   ]
  },
  {
   "cell_type": "code",
   "execution_count": 4,
   "metadata": {},
   "outputs": [
    {
     "data": {
      "text/plain": [
       "((1314, 81), (146, 81))"
      ]
     },
     "execution_count": 4,
     "metadata": {},
     "output_type": "execute_result"
    }
   ],
   "source": [
    "#shape of train and test data\n",
    "X_train.shape, X_test.shape"
   ]
  },
  {
   "cell_type": "markdown",
   "metadata": {},
   "source": [
    "# Missing values"
   ]
  },
  {
   "cell_type": "code",
   "execution_count": 5,
   "metadata": {},
   "outputs": [],
   "source": [
    "cat_vars_na = [var for var in data if data[var].isnull().sum() >= 1 and data[var].dtype == \"O\"] "
   ]
  },
  {
   "cell_type": "code",
   "execution_count": 6,
   "metadata": {},
   "outputs": [
    {
     "data": {
      "text/plain": [
       "['Alley',\n",
       " 'MasVnrType',\n",
       " 'BsmtQual',\n",
       " 'BsmtCond',\n",
       " 'BsmtExposure',\n",
       " 'BsmtFinType1',\n",
       " 'BsmtFinType2',\n",
       " 'Electrical',\n",
       " 'FireplaceQu',\n",
       " 'GarageType',\n",
       " 'GarageFinish',\n",
       " 'GarageQual',\n",
       " 'GarageCond',\n",
       " 'PoolQC',\n",
       " 'Fence',\n",
       " 'MiscFeature']"
      ]
     },
     "execution_count": 6,
     "metadata": {},
     "output_type": "execute_result"
    }
   ],
   "source": [
    "cat_vars_na"
   ]
  },
  {
   "cell_type": "code",
   "execution_count": 7,
   "metadata": {},
   "outputs": [
    {
     "name": "stdout",
     "output_type": "stream",
     "text": [
      "Alley 93.8 % missing values\n",
      "MasVnrType 0.5 % missing values\n",
      "BsmtQual 2.4 % missing values\n",
      "BsmtCond 2.4 % missing values\n",
      "BsmtExposure 2.5 % missing values\n",
      "BsmtFinType1 2.4 % missing values\n",
      "BsmtFinType2 2.5 % missing values\n",
      "Electrical 0.1 % missing values\n",
      "FireplaceQu 47.3 % missing values\n",
      "GarageType 5.6000000000000005 % missing values\n",
      "GarageFinish 5.6000000000000005 % missing values\n",
      "GarageQual 5.6000000000000005 % missing values\n",
      "GarageCond 5.6000000000000005 % missing values\n",
      "PoolQC 99.5 % missing values\n",
      "Fence 81.39999999999999 % missing values\n",
      "MiscFeature 96.1 % missing values\n"
     ]
    }
   ],
   "source": [
    "for var in cat_vars_na:\n",
    "    print(var, np.round(X_train[var].isnull().sum()/X_train.shape[0],3)*100,'% missing values')"
   ]
  },
  {
   "cell_type": "markdown",
   "metadata": {},
   "source": [
    "# Fill missing values"
   ]
  },
  {
   "cell_type": "code",
   "execution_count": 8,
   "metadata": {},
   "outputs": [],
   "source": [
    "def fill_categorical_na(df, var_list, fill=\"Missing\"):\n",
    "    df = df.copy()\n",
    "    df[var_list] = df[var_list].fillna(fill)\n",
    "    return df"
   ]
  },
  {
   "cell_type": "code",
   "execution_count": 9,
   "metadata": {},
   "outputs": [],
   "source": [
    "X_train = fill_categorical_na(X_train, cat_vars_na)\n",
    "X_test = fill_categorical_na(X_test, cat_vars_na)"
   ]
  },
  {
   "cell_type": "code",
   "execution_count": 10,
   "metadata": {},
   "outputs": [
    {
     "name": "stdout",
     "output_type": "stream",
     "text": [
      "Alley 0.0 % missing values\n",
      "MasVnrType 0.0 % missing values\n",
      "BsmtQual 0.0 % missing values\n",
      "BsmtCond 0.0 % missing values\n",
      "BsmtExposure 0.0 % missing values\n",
      "BsmtFinType1 0.0 % missing values\n",
      "BsmtFinType2 0.0 % missing values\n",
      "Electrical 0.0 % missing values\n",
      "FireplaceQu 0.0 % missing values\n",
      "GarageType 0.0 % missing values\n",
      "GarageFinish 0.0 % missing values\n",
      "GarageQual 0.0 % missing values\n",
      "GarageCond 0.0 % missing values\n",
      "PoolQC 0.0 % missing values\n",
      "Fence 0.0 % missing values\n",
      "MiscFeature 0.0 % missing values\n"
     ]
    }
   ],
   "source": [
    "for var in cat_vars_na:\n",
    "    print(var, np.round(X_train[var].isnull().sum()/X_train.shape[0],3)*100,'% missing values')"
   ]
  },
  {
   "cell_type": "markdown",
   "metadata": {},
   "source": [
    "# Missing values numerical"
   ]
  },
  {
   "cell_type": "code",
   "execution_count": 11,
   "metadata": {},
   "outputs": [],
   "source": [
    "num_vars_na = [var for var in data if data[var].isnull().sum() >= 1 and data[var].dtype != \"O\" ]"
   ]
  },
  {
   "cell_type": "code",
   "execution_count": 12,
   "metadata": {},
   "outputs": [
    {
     "data": {
      "text/plain": [
       "['LotFrontage', 'MasVnrArea', 'GarageYrBlt']"
      ]
     },
     "execution_count": 12,
     "metadata": {},
     "output_type": "execute_result"
    }
   ],
   "source": [
    "num_vars_na"
   ]
  },
  {
   "cell_type": "code",
   "execution_count": 13,
   "metadata": {},
   "outputs": [
    {
     "name": "stdout",
     "output_type": "stream",
     "text": [
      "LotFrontage 17.7  % missing values\n",
      "MasVnrArea 0.5  % missing values\n",
      "GarageYrBlt 5.6000000000000005  % missing values\n"
     ]
    }
   ],
   "source": [
    "for var in num_vars_na:\n",
    "    print(var, np.round(X_train[var].isnull().sum()/X_train.shape[0],3)*100,\" % missing values\")"
   ]
  },
  {
   "cell_type": "code",
   "execution_count": 14,
   "metadata": {},
   "outputs": [],
   "source": [
    "def treat_missing_numerical(df_train,df_test, vars_list, replace=\"mode\"):\n",
    "    df_train = df_train.copy()\n",
    "    df_test = df_test.copy()\n",
    "    for var in vars_list:\n",
    "        if replace == \"mode\":\n",
    "            replace_value = df_train[var].aggregate(replace)[0]\n",
    "        else:\n",
    "            replace_value = df_train[var].aggregate(replace)\n",
    "        #train\n",
    "        df_train[var + \"_na\"] = np.where(df_train[var].isnull(),1,0)\n",
    "        df_train[var].fillna(replace_value, inplace=True)\n",
    "        #test\n",
    "        df_test[var + \"_na\"] = np.where(df_test[var].isnull(),1,0)\n",
    "        df_test[var].fillna(replace_value, inplace=True)\n",
    "        \n",
    "    return df_train, df_test\n",
    "        \n",
    "            "
   ]
  },
  {
   "cell_type": "code",
   "execution_count": 15,
   "metadata": {},
   "outputs": [],
   "source": [
    "X_train, X_test = treat_missing_numerical(X_train, X_test, num_vars_na)"
   ]
  },
  {
   "cell_type": "code",
   "execution_count": 16,
   "metadata": {},
   "outputs": [
    {
     "name": "stdout",
     "output_type": "stream",
     "text": [
      "LotFrontage 0.0  % missing values\n",
      "MasVnrArea 0.0  % missing values\n",
      "GarageYrBlt 0.0  % missing values\n"
     ]
    }
   ],
   "source": [
    "for var in num_vars_na:\n",
    "    print(var, np.round(X_train[var].isnull().sum()/X_train.shape[0],3)*100,\" % missing values\")"
   ]
  },
  {
   "cell_type": "markdown",
   "metadata": {},
   "source": [
    "# Temporal Variables"
   ]
  },
  {
   "cell_type": "code",
   "execution_count": 17,
   "metadata": {},
   "outputs": [],
   "source": [
    "temp_vars = [var for var in data if 'Yr' in var or 'Year' in var]"
   ]
  },
  {
   "cell_type": "code",
   "execution_count": 18,
   "metadata": {},
   "outputs": [],
   "source": [
    "def elapsed_years(df, var, from_column=\"YrSold\"):\n",
    "    df = df.copy()\n",
    "    if var not in from_column:\n",
    "        df[var] = df[from_column] - df[var]\n",
    "    return df"
   ]
  },
  {
   "cell_type": "code",
   "execution_count": 19,
   "metadata": {},
   "outputs": [],
   "source": [
    "for var in temp_vars:\n",
    "    X_train = elapsed_years(X_train, var)\n",
    "    X_test = elapsed_years(X_test, var)"
   ]
  },
  {
   "cell_type": "code",
   "execution_count": 20,
   "metadata": {},
   "outputs": [
    {
     "data": {
      "text/plain": [
       "['YearBuilt', 'YearRemodAdd', 'GarageYrBlt', 'YrSold']"
      ]
     },
     "execution_count": 20,
     "metadata": {},
     "output_type": "execute_result"
    }
   ],
   "source": [
    "temp_vars"
   ]
  },
  {
   "cell_type": "markdown",
   "metadata": {},
   "source": [
    "# Numerical Variables Log Transformation"
   ]
  },
  {
   "cell_type": "code",
   "execution_count": 21,
   "metadata": {},
   "outputs": [],
   "source": [
    "for var in ['LotFrontage', 'LotArea', '1stFlrSF', 'GrLivArea', 'SalePrice']:\n",
    "    X_train[var] = np.log(X_train[var])\n",
    "    X_test[var] = np.log(X_test[var])"
   ]
  },
  {
   "cell_type": "markdown",
   "metadata": {},
   "source": [
    "# Categorical Values"
   ]
  },
  {
   "cell_type": "code",
   "execution_count": 22,
   "metadata": {},
   "outputs": [],
   "source": [
    "cat_vars = [var for var in data if data[var].dtype == \"O\"]"
   ]
  },
  {
   "cell_type": "code",
   "execution_count": 23,
   "metadata": {},
   "outputs": [
    {
     "data": {
      "text/plain": [
       "['MSZoning',\n",
       " 'Street',\n",
       " 'Alley',\n",
       " 'LotShape',\n",
       " 'LandContour',\n",
       " 'Utilities',\n",
       " 'LotConfig',\n",
       " 'LandSlope',\n",
       " 'Neighborhood',\n",
       " 'Condition1',\n",
       " 'Condition2',\n",
       " 'BldgType',\n",
       " 'HouseStyle',\n",
       " 'RoofStyle',\n",
       " 'RoofMatl',\n",
       " 'Exterior1st',\n",
       " 'Exterior2nd',\n",
       " 'MasVnrType',\n",
       " 'ExterQual',\n",
       " 'ExterCond',\n",
       " 'Foundation',\n",
       " 'BsmtQual',\n",
       " 'BsmtCond',\n",
       " 'BsmtExposure',\n",
       " 'BsmtFinType1',\n",
       " 'BsmtFinType2',\n",
       " 'Heating',\n",
       " 'HeatingQC',\n",
       " 'CentralAir',\n",
       " 'Electrical',\n",
       " 'KitchenQual',\n",
       " 'Functional',\n",
       " 'FireplaceQu',\n",
       " 'GarageType',\n",
       " 'GarageFinish',\n",
       " 'GarageQual',\n",
       " 'GarageCond',\n",
       " 'PavedDrive',\n",
       " 'PoolQC',\n",
       " 'Fence',\n",
       " 'MiscFeature',\n",
       " 'SaleType',\n",
       " 'SaleCondition']"
      ]
     },
     "execution_count": 23,
     "metadata": {},
     "output_type": "execute_result"
    }
   ],
   "source": [
    "cat_vars"
   ]
  },
  {
   "cell_type": "code",
   "execution_count": 24,
   "metadata": {},
   "outputs": [],
   "source": [
    "def find_frequent_labels(df, var, rare_perc):\n",
    "    df = df.copy()\n",
    "    tmp = df[var].value_counts()/df.shape[0]\n",
    "    return tmp[tmp>rare_perc].index"
   ]
  },
  {
   "cell_type": "code",
   "execution_count": 25,
   "metadata": {},
   "outputs": [],
   "source": [
    "for var in cat_vars:\n",
    "    frequent_ls = find_frequent_labels(X_train, var, 0.01)\n",
    "    \n",
    "    X_train[var] = np.where(X_train[var].isin(frequent_ls),X_train[var],\"Rare\")\n",
    "    X_test[var] = np.where(X_test[var].isin(frequent_ls),X_test[var],\"Rare\")"
   ]
  },
  {
   "cell_type": "code",
   "execution_count": 26,
   "metadata": {},
   "outputs": [],
   "source": [
    "FREQUENT_LIST = {col:list(find_frequent_labels(X_train,col,0.01)) for col in cat_vars}"
   ]
  },
  {
   "cell_type": "code",
   "execution_count": 27,
   "metadata": {},
   "outputs": [
    {
     "data": {
      "text/plain": [
       "{'MSZoning': ['RL', 'RM', 'FV', 'RH'],\n",
       " 'Street': ['Pave'],\n",
       " 'Alley': ['Missing', 'Grvl', 'Pave'],\n",
       " 'LotShape': ['Reg', 'IR1', 'IR2'],\n",
       " 'LandContour': ['Lvl', 'Bnk', 'HLS', 'Low'],\n",
       " 'Utilities': ['AllPub'],\n",
       " 'LotConfig': ['Inside', 'Corner', 'CulDSac', 'FR2'],\n",
       " 'LandSlope': ['Gtl', 'Mod'],\n",
       " 'Neighborhood': ['NAmes',\n",
       "  'CollgCr',\n",
       "  'OldTown',\n",
       "  'Edwards',\n",
       "  'Somerst',\n",
       "  'NridgHt',\n",
       "  'Gilbert',\n",
       "  'Sawyer',\n",
       "  'NWAmes',\n",
       "  'BrkSide',\n",
       "  'SawyerW',\n",
       "  'Mitchel',\n",
       "  'Crawfor',\n",
       "  'Timber',\n",
       "  'NoRidge',\n",
       "  'IDOTRR',\n",
       "  'ClearCr',\n",
       "  'SWISU',\n",
       "  'StoneBr',\n",
       "  'Rare',\n",
       "  'MeadowV',\n",
       "  'Blmngtn',\n",
       "  'BrDale'],\n",
       " 'Condition1': ['Norm', 'Feedr', 'Artery', 'Rare', 'RRAn', 'PosN'],\n",
       " 'Condition2': ['Norm'],\n",
       " 'BldgType': ['1Fam', 'TwnhsE', 'Duplex', 'Twnhs', '2fmCon'],\n",
       " 'HouseStyle': ['1Story', '2Story', '1.5Fin', 'SLvl', 'Rare', 'SFoyer'],\n",
       " 'RoofStyle': ['Gable', 'Hip', 'Rare'],\n",
       " 'RoofMatl': ['CompShg', 'Rare'],\n",
       " 'Exterior1st': ['VinylSd',\n",
       "  'HdBoard',\n",
       "  'Wd Sdng',\n",
       "  'MetalSd',\n",
       "  'Plywood',\n",
       "  'CemntBd',\n",
       "  'BrkFace',\n",
       "  'Stucco',\n",
       "  'WdShing',\n",
       "  'AsbShng'],\n",
       " 'Exterior2nd': ['VinylSd',\n",
       "  'HdBoard',\n",
       "  'Wd Sdng',\n",
       "  'MetalSd',\n",
       "  'Plywood',\n",
       "  'CmentBd',\n",
       "  'Wd Shng',\n",
       "  'BrkFace',\n",
       "  'Stucco',\n",
       "  'Rare',\n",
       "  'AsbShng'],\n",
       " 'MasVnrType': ['None', 'BrkFace', 'Stone', 'Rare'],\n",
       " 'ExterQual': ['TA', 'Gd', 'Ex'],\n",
       " 'ExterCond': ['TA', 'Gd', 'Fa'],\n",
       " 'Foundation': ['PConc', 'CBlock', 'BrkTil', 'Slab'],\n",
       " 'BsmtQual': ['TA', 'Gd', 'Ex', 'Fa', 'Missing'],\n",
       " 'BsmtCond': ['TA', 'Gd', 'Fa', 'Missing'],\n",
       " 'BsmtExposure': ['No', 'Av', 'Gd', 'Mn', 'Missing'],\n",
       " 'BsmtFinType1': ['Unf', 'GLQ', 'ALQ', 'BLQ', 'Rec', 'LwQ', 'Missing'],\n",
       " 'BsmtFinType2': ['Unf', 'LwQ', 'Rec', 'Missing', 'BLQ', 'ALQ'],\n",
       " 'Heating': ['GasA', 'GasW', 'Rare'],\n",
       " 'HeatingQC': ['Ex', 'TA', 'Gd', 'Fa'],\n",
       " 'CentralAir': ['Y', 'N'],\n",
       " 'Electrical': ['SBrkr', 'FuseA', 'FuseF'],\n",
       " 'KitchenQual': ['TA', 'Gd', 'Ex', 'Fa'],\n",
       " 'Functional': ['Typ', 'Min2', 'Min1', 'Rare', 'Mod'],\n",
       " 'FireplaceQu': ['Missing', 'Gd', 'TA', 'Fa', 'Ex', 'Po'],\n",
       " 'GarageType': ['Attchd', 'Detchd', 'BuiltIn', 'Missing', 'Basment'],\n",
       " 'GarageFinish': ['Unf', 'RFn', 'Fin', 'Missing'],\n",
       " 'GarageQual': ['TA', 'Missing', 'Fa', 'Rare'],\n",
       " 'GarageCond': ['TA', 'Missing', 'Fa', 'Rare'],\n",
       " 'PavedDrive': ['Y', 'N', 'P'],\n",
       " 'PoolQC': ['Missing'],\n",
       " 'Fence': ['Missing', 'MnPrv', 'GdPrv', 'GdWo'],\n",
       " 'MiscFeature': ['Missing', 'Shed'],\n",
       " 'SaleType': ['WD', 'New', 'COD', 'Rare'],\n",
       " 'SaleCondition': ['Normal', 'Partial', 'Abnorml', 'Family']}"
      ]
     },
     "execution_count": 27,
     "metadata": {},
     "output_type": "execute_result"
    }
   ],
   "source": [
    "FREQUENT_LIST"
   ]
  },
  {
   "cell_type": "markdown",
   "metadata": {},
   "source": [
    "## Replacing cat variables with numerical"
   ]
  },
  {
   "cell_type": "code",
   "execution_count": 28,
   "metadata": {},
   "outputs": [],
   "source": [
    "def replace_cat_with_numerical(train, test, var, target):\n",
    "    df_train = train.copy()\n",
    "    df_test = test.copy()\n",
    "    \n",
    "    ordered_labels = df_train.groupby(var)[target].mean().sort_values().index\n",
    "    mapping = {k:i for i,k in enumerate(ordered_labels,0)}\n",
    "    \n",
    "    print(mapping)\n",
    "    \n",
    "    df_train[var] = df_train[var].map(mapping)\n",
    "    df_test[var] = df_test[var].map(mapping)\n",
    "    \n",
    "    return df_train, df_test, mapping\n",
    "    "
   ]
  },
  {
   "cell_type": "code",
   "execution_count": 29,
   "metadata": {},
   "outputs": [
    {
     "name": "stdout",
     "output_type": "stream",
     "text": [
      "{'Rare': 0, 'RM': 1, 'RH': 2, 'RL': 3, 'FV': 4}\n",
      "{'Rare': 0, 'Pave': 1}\n",
      "{'Grvl': 0, 'Pave': 1, 'Missing': 2}\n",
      "{'Reg': 0, 'IR1': 1, 'Rare': 2, 'IR2': 3}\n",
      "{'Bnk': 0, 'Lvl': 1, 'Low': 2, 'HLS': 3}\n",
      "{'Rare': 0, 'AllPub': 1}\n",
      "{'Inside': 0, 'FR2': 1, 'Corner': 2, 'Rare': 3, 'CulDSac': 4}\n",
      "{'Gtl': 0, 'Mod': 1, 'Rare': 2}\n",
      "{'IDOTRR': 0, 'MeadowV': 1, 'BrDale': 2, 'Edwards': 3, 'BrkSide': 4, 'OldTown': 5, 'Sawyer': 6, 'SWISU': 7, 'NAmes': 8, 'Mitchel': 9, 'SawyerW': 10, 'Rare': 11, 'NWAmes': 12, 'Gilbert': 13, 'Blmngtn': 14, 'CollgCr': 15, 'Crawfor': 16, 'ClearCr': 17, 'Somerst': 18, 'Timber': 19, 'StoneBr': 20, 'NridgHt': 21, 'NoRidge': 22}\n",
      "{'Artery': 0, 'Feedr': 1, 'Norm': 2, 'RRAn': 3, 'Rare': 4, 'PosN': 5}\n",
      "{'Rare': 0, 'Norm': 1}\n",
      "{'2fmCon': 0, 'Duplex': 1, 'Twnhs': 2, '1Fam': 3, 'TwnhsE': 4}\n",
      "{'SFoyer': 0, '1.5Fin': 1, 'Rare': 2, '1Story': 3, 'SLvl': 4, '2Story': 5}\n",
      "{'Gable': 0, 'Rare': 1, 'Hip': 2}\n",
      "{'CompShg': 0, 'Rare': 1}\n",
      "{'AsbShng': 0, 'Wd Sdng': 1, 'WdShing': 2, 'MetalSd': 3, 'Stucco': 4, 'Rare': 5, 'HdBoard': 6, 'Plywood': 7, 'BrkFace': 8, 'CemntBd': 9, 'VinylSd': 10}\n",
      "{'AsbShng': 0, 'Wd Sdng': 1, 'MetalSd': 2, 'Wd Shng': 3, 'Stucco': 4, 'Rare': 5, 'HdBoard': 6, 'Plywood': 7, 'BrkFace': 8, 'CmentBd': 9, 'VinylSd': 10}\n",
      "{'None': 0, 'Rare': 1, 'BrkFace': 2, 'Stone': 3}\n",
      "{'Rare': 0, 'TA': 1, 'Gd': 2, 'Ex': 3}\n",
      "{'Fa': 0, 'Rare': 1, 'Gd': 2, 'TA': 3}\n",
      "{'Slab': 0, 'BrkTil': 1, 'CBlock': 2, 'Rare': 3, 'PConc': 4}\n",
      "{'Missing': 0, 'Fa': 1, 'TA': 2, 'Gd': 3, 'Ex': 4}\n",
      "{'Rare': 0, 'Missing': 1, 'Fa': 2, 'TA': 3, 'Gd': 4}\n",
      "{'Missing': 0, 'No': 1, 'Mn': 2, 'Av': 3, 'Gd': 4}\n",
      "{'Missing': 0, 'Rec': 1, 'BLQ': 2, 'LwQ': 3, 'ALQ': 4, 'Unf': 5, 'GLQ': 6}\n",
      "{'Missing': 0, 'BLQ': 1, 'LwQ': 2, 'Rec': 3, 'Unf': 4, 'Rare': 5, 'ALQ': 6}\n",
      "{'Rare': 0, 'GasW': 1, 'GasA': 2}\n",
      "{'Rare': 0, 'Fa': 1, 'TA': 2, 'Gd': 3, 'Ex': 4}\n",
      "{'N': 0, 'Y': 1}\n",
      "{'Rare': 0, 'FuseF': 1, 'FuseA': 2, 'SBrkr': 3}\n",
      "{'Fa': 0, 'TA': 1, 'Gd': 2, 'Ex': 3}\n",
      "{'Rare': 0, 'Min2': 1, 'Mod': 2, 'Min1': 3, 'Typ': 4}\n",
      "{'Po': 0, 'Missing': 1, 'Fa': 2, 'TA': 3, 'Gd': 4, 'Ex': 5}\n",
      "{'Missing': 0, 'Rare': 1, 'Detchd': 2, 'Basment': 3, 'Attchd': 4, 'BuiltIn': 5}\n",
      "{'Missing': 0, 'Unf': 1, 'RFn': 2, 'Fin': 3}\n",
      "{'Missing': 0, 'Fa': 1, 'TA': 2, 'Rare': 3}\n",
      "{'Missing': 0, 'Fa': 1, 'Rare': 2, 'TA': 3}\n",
      "{'N': 0, 'P': 1, 'Y': 2}\n",
      "{'Missing': 0, 'Rare': 1}\n",
      "{'GdWo': 0, 'Rare': 1, 'MnPrv': 2, 'Missing': 3, 'GdPrv': 4}\n",
      "{'Rare': 0, 'Shed': 1, 'Missing': 2}\n",
      "{'COD': 0, 'Rare': 1, 'WD': 2, 'New': 3}\n",
      "{'Rare': 0, 'Abnorml': 1, 'Family': 2, 'Normal': 3, 'Partial': 4}\n"
     ]
    }
   ],
   "source": [
    "NUMERICAL_ENCODING = {}\n",
    "for var in cat_vars:\n",
    "    X_train, X_test, NUMERICAL_ENCODING[var] = replace_cat_with_numerical(X_train, X_test, var, \"SalePrice\")"
   ]
  },
  {
   "cell_type": "code",
   "execution_count": 38,
   "metadata": {},
   "outputs": [
    {
     "name": "stdout",
     "output_type": "stream",
     "text": [
      "MSZoning 0.0\n",
      "Street 0.0\n",
      "Alley 0.0\n",
      "LotShape 0.0\n",
      "LandContour 0.0\n",
      "Utilities 0.0\n",
      "LotConfig 0.0\n",
      "LandSlope 0.0\n",
      "Neighborhood 0.0\n",
      "Condition1 0.0\n",
      "Condition2 0.0\n",
      "BldgType 0.0\n",
      "HouseStyle 0.0\n",
      "RoofStyle 0.0\n",
      "RoofMatl 0.0\n",
      "Exterior1st 0.0\n",
      "Exterior2nd 0.0\n",
      "MasVnrType 0.0\n",
      "ExterQual 0.0\n",
      "ExterCond 0.0\n",
      "Foundation 0.0\n",
      "BsmtQual 0.0\n",
      "BsmtCond 0.0\n",
      "BsmtExposure 0.0\n",
      "BsmtFinType1 0.0\n",
      "BsmtFinType2 0.0\n",
      "Heating 0.0\n",
      "HeatingQC 0.0\n",
      "CentralAir 0.0\n",
      "Electrical 0.0\n",
      "KitchenQual 0.0\n",
      "Functional 0.0\n",
      "FireplaceQu 0.0\n",
      "GarageType 0.0\n",
      "GarageFinish 0.0\n",
      "GarageQual 0.0\n",
      "GarageCond 0.0\n",
      "PavedDrive 0.0\n",
      "PoolQC 0.0\n",
      "Fence 0.0\n",
      "MiscFeature 0.0\n",
      "SaleType 0.0\n",
      "SaleCondition 0.0\n"
     ]
    }
   ],
   "source": [
    "for var in cat_vars:\n",
    "    print(var, (X_test[var].isnull().sum()/X_test.shape[0])*100)"
   ]
  },
  {
   "cell_type": "code",
   "execution_count": 30,
   "metadata": {},
   "outputs": [
    {
     "data": {
      "text/plain": [
       "{'MSZoning': {'Rare': 0, 'RM': 1, 'RH': 2, 'RL': 3, 'FV': 4},\n",
       " 'Street': {'Rare': 0, 'Pave': 1},\n",
       " 'Alley': {'Grvl': 0, 'Pave': 1, 'Missing': 2},\n",
       " 'LotShape': {'Reg': 0, 'IR1': 1, 'Rare': 2, 'IR2': 3},\n",
       " 'LandContour': {'Bnk': 0, 'Lvl': 1, 'Low': 2, 'HLS': 3},\n",
       " 'Utilities': {'Rare': 0, 'AllPub': 1},\n",
       " 'LotConfig': {'Inside': 0, 'FR2': 1, 'Corner': 2, 'Rare': 3, 'CulDSac': 4},\n",
       " 'LandSlope': {'Gtl': 0, 'Mod': 1, 'Rare': 2},\n",
       " 'Neighborhood': {'IDOTRR': 0,\n",
       "  'MeadowV': 1,\n",
       "  'BrDale': 2,\n",
       "  'Edwards': 3,\n",
       "  'BrkSide': 4,\n",
       "  'OldTown': 5,\n",
       "  'Sawyer': 6,\n",
       "  'SWISU': 7,\n",
       "  'NAmes': 8,\n",
       "  'Mitchel': 9,\n",
       "  'SawyerW': 10,\n",
       "  'Rare': 11,\n",
       "  'NWAmes': 12,\n",
       "  'Gilbert': 13,\n",
       "  'Blmngtn': 14,\n",
       "  'CollgCr': 15,\n",
       "  'Crawfor': 16,\n",
       "  'ClearCr': 17,\n",
       "  'Somerst': 18,\n",
       "  'Timber': 19,\n",
       "  'StoneBr': 20,\n",
       "  'NridgHt': 21,\n",
       "  'NoRidge': 22},\n",
       " 'Condition1': {'Artery': 0,\n",
       "  'Feedr': 1,\n",
       "  'Norm': 2,\n",
       "  'RRAn': 3,\n",
       "  'Rare': 4,\n",
       "  'PosN': 5},\n",
       " 'Condition2': {'Rare': 0, 'Norm': 1},\n",
       " 'BldgType': {'2fmCon': 0, 'Duplex': 1, 'Twnhs': 2, '1Fam': 3, 'TwnhsE': 4},\n",
       " 'HouseStyle': {'SFoyer': 0,\n",
       "  '1.5Fin': 1,\n",
       "  'Rare': 2,\n",
       "  '1Story': 3,\n",
       "  'SLvl': 4,\n",
       "  '2Story': 5},\n",
       " 'RoofStyle': {'Gable': 0, 'Rare': 1, 'Hip': 2},\n",
       " 'RoofMatl': {'CompShg': 0, 'Rare': 1},\n",
       " 'Exterior1st': {'AsbShng': 0,\n",
       "  'Wd Sdng': 1,\n",
       "  'WdShing': 2,\n",
       "  'MetalSd': 3,\n",
       "  'Stucco': 4,\n",
       "  'Rare': 5,\n",
       "  'HdBoard': 6,\n",
       "  'Plywood': 7,\n",
       "  'BrkFace': 8,\n",
       "  'CemntBd': 9,\n",
       "  'VinylSd': 10},\n",
       " 'Exterior2nd': {'AsbShng': 0,\n",
       "  'Wd Sdng': 1,\n",
       "  'MetalSd': 2,\n",
       "  'Wd Shng': 3,\n",
       "  'Stucco': 4,\n",
       "  'Rare': 5,\n",
       "  'HdBoard': 6,\n",
       "  'Plywood': 7,\n",
       "  'BrkFace': 8,\n",
       "  'CmentBd': 9,\n",
       "  'VinylSd': 10},\n",
       " 'MasVnrType': {'None': 0, 'Rare': 1, 'BrkFace': 2, 'Stone': 3},\n",
       " 'ExterQual': {'Rare': 0, 'TA': 1, 'Gd': 2, 'Ex': 3},\n",
       " 'ExterCond': {'Fa': 0, 'Rare': 1, 'Gd': 2, 'TA': 3},\n",
       " 'Foundation': {'Slab': 0, 'BrkTil': 1, 'CBlock': 2, 'Rare': 3, 'PConc': 4},\n",
       " 'BsmtQual': {'Missing': 0, 'Fa': 1, 'TA': 2, 'Gd': 3, 'Ex': 4},\n",
       " 'BsmtCond': {'Rare': 0, 'Missing': 1, 'Fa': 2, 'TA': 3, 'Gd': 4},\n",
       " 'BsmtExposure': {'Missing': 0, 'No': 1, 'Mn': 2, 'Av': 3, 'Gd': 4},\n",
       " 'BsmtFinType1': {'Missing': 0,\n",
       "  'Rec': 1,\n",
       "  'BLQ': 2,\n",
       "  'LwQ': 3,\n",
       "  'ALQ': 4,\n",
       "  'Unf': 5,\n",
       "  'GLQ': 6},\n",
       " 'BsmtFinType2': {'Missing': 0,\n",
       "  'BLQ': 1,\n",
       "  'LwQ': 2,\n",
       "  'Rec': 3,\n",
       "  'Unf': 4,\n",
       "  'Rare': 5,\n",
       "  'ALQ': 6},\n",
       " 'Heating': {'Rare': 0, 'GasW': 1, 'GasA': 2},\n",
       " 'HeatingQC': {'Rare': 0, 'Fa': 1, 'TA': 2, 'Gd': 3, 'Ex': 4},\n",
       " 'CentralAir': {'N': 0, 'Y': 1},\n",
       " 'Electrical': {'Rare': 0, 'FuseF': 1, 'FuseA': 2, 'SBrkr': 3},\n",
       " 'KitchenQual': {'Fa': 0, 'TA': 1, 'Gd': 2, 'Ex': 3},\n",
       " 'Functional': {'Rare': 0, 'Min2': 1, 'Mod': 2, 'Min1': 3, 'Typ': 4},\n",
       " 'FireplaceQu': {'Po': 0, 'Missing': 1, 'Fa': 2, 'TA': 3, 'Gd': 4, 'Ex': 5},\n",
       " 'GarageType': {'Missing': 0,\n",
       "  'Rare': 1,\n",
       "  'Detchd': 2,\n",
       "  'Basment': 3,\n",
       "  'Attchd': 4,\n",
       "  'BuiltIn': 5},\n",
       " 'GarageFinish': {'Missing': 0, 'Unf': 1, 'RFn': 2, 'Fin': 3},\n",
       " 'GarageQual': {'Missing': 0, 'Fa': 1, 'TA': 2, 'Rare': 3},\n",
       " 'GarageCond': {'Missing': 0, 'Fa': 1, 'Rare': 2, 'TA': 3},\n",
       " 'PavedDrive': {'N': 0, 'P': 1, 'Y': 2},\n",
       " 'PoolQC': {'Missing': 0, 'Rare': 1},\n",
       " 'Fence': {'GdWo': 0, 'Rare': 1, 'MnPrv': 2, 'Missing': 3, 'GdPrv': 4},\n",
       " 'MiscFeature': {'Rare': 0, 'Shed': 1, 'Missing': 2},\n",
       " 'SaleType': {'COD': 0, 'Rare': 1, 'WD': 2, 'New': 3},\n",
       " 'SaleCondition': {'Rare': 0,\n",
       "  'Abnorml': 1,\n",
       "  'Family': 2,\n",
       "  'Normal': 3,\n",
       "  'Partial': 4}}"
      ]
     },
     "execution_count": 30,
     "metadata": {},
     "output_type": "execute_result"
    }
   ],
   "source": [
    "NUMERICAL_ENCODING"
   ]
  },
  {
   "cell_type": "code",
   "execution_count": 31,
   "metadata": {},
   "outputs": [],
   "source": [
    "train_vars = [var for var in X_train if var not in [\"Id\",\"SalePrice\"]]"
   ]
  },
  {
   "cell_type": "code",
   "execution_count": 32,
   "metadata": {},
   "outputs": [
    {
     "data": {
      "text/plain": [
       "82"
      ]
     },
     "execution_count": 32,
     "metadata": {},
     "output_type": "execute_result"
    }
   ],
   "source": [
    "len(train_vars)"
   ]
  },
  {
   "cell_type": "markdown",
   "metadata": {},
   "source": [
    "# Scaling"
   ]
  },
  {
   "cell_type": "code",
   "execution_count": 33,
   "metadata": {},
   "outputs": [],
   "source": [
    "scaler = MinMaxScaler()"
   ]
  },
  {
   "cell_type": "code",
   "execution_count": 34,
   "metadata": {},
   "outputs": [
    {
     "data": {
      "text/plain": [
       "MinMaxScaler(copy=True, feature_range=(0, 1))"
      ]
     },
     "execution_count": 34,
     "metadata": {},
     "output_type": "execute_result"
    }
   ],
   "source": [
    "scaler.fit(X_train[train_vars])"
   ]
  },
  {
   "cell_type": "code",
   "execution_count": 35,
   "metadata": {},
   "outputs": [],
   "source": [
    "#Transform\n",
    "X_train[train_vars] = scaler.transform(X_train[train_vars])\n",
    "X_test[train_vars] = scaler.transform(X_test[train_vars])"
   ]
  },
  {
   "cell_type": "code",
   "execution_count": 36,
   "metadata": {},
   "outputs": [],
   "source": [
    "# let's now save the train and test sets for the next notebook!\n",
    "\n",
    "X_train.to_csv('/Users/bajajn2/Nakul/Projects/deployMachineLearningModels/xtrain.csv', index=False)\n",
    "X_test.to_csv('/Users/bajajn2/Nakul/Projects/deployMachineLearningModels/xtest.csv', index=False)"
   ]
  }
 ],
 "metadata": {
  "kernelspec": {
   "display_name": "Python 3",
   "language": "python",
   "name": "python3"
  },
  "language_info": {
   "codemirror_mode": {
    "name": "ipython",
    "version": 3
   },
   "file_extension": ".py",
   "mimetype": "text/x-python",
   "name": "python",
   "nbconvert_exporter": "python",
   "pygments_lexer": "ipython3",
   "version": "3.7.6"
  }
 },
 "nbformat": 4,
 "nbformat_minor": 4
}
